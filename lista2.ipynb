{
  "nbformat": 4,
  "nbformat_minor": 0,
  "metadata": {
    "colab": {
      "name": "lista2.ipynb",
      "provenance": [],
      "authorship_tag": "ABX9TyMdDVCrzQDvQuSuZHKVPhRr",
      "include_colab_link": true
    },
    "kernelspec": {
      "name": "python3",
      "display_name": "Python 3"
    },
    "language_info": {
      "name": "python"
    }
  },
  "cells": [
    {
      "cell_type": "markdown",
      "metadata": {
        "id": "view-in-github",
        "colab_type": "text"
      },
      "source": [
        "<a href=\"https://colab.research.google.com/github/AdrianUrbanski/ADM/blob/main/lista2.ipynb\" target=\"_parent\"><img src=\"https://colab.research.google.com/assets/colab-badge.svg\" alt=\"Open In Colab\"/></a>"
      ]
    },
    {
      "cell_type": "markdown",
      "metadata": {
        "id": "9He_mmMO-Pxt"
      },
      "source": [
        "# Imports"
      ]
    },
    {
      "cell_type": "code",
      "metadata": {
        "id": "_l1h-apg-RWw"
      },
      "source": [
        "import numpy as np"
      ],
      "execution_count": 1,
      "outputs": []
    },
    {
      "cell_type": "markdown",
      "metadata": {
        "id": "vIC32Zb4-Nye"
      },
      "source": [
        "# Assignment 1"
      ]
    },
    {
      "cell_type": "markdown",
      "metadata": {
        "id": "hwsDq0F--lLK"
      },
      "source": [
        "## a)"
      ]
    },
    {
      "cell_type": "code",
      "metadata": {
        "id": "Rrmk8ow7_XpF"
      },
      "source": [
        "def euclidean_distance(x, y):\n",
        "    return ((x-y)**2).sum()"
      ],
      "execution_count": 5,
      "outputs": []
    },
    {
      "cell_type": "code",
      "metadata": {
        "id": "YDdJhm7A-OvV"
      },
      "source": [
        "def dynamic_time_warping(s, t, distance = euclidean_distance):\n",
        "    n, m = s.shape[0], t.shape[0]\n",
        "    DTW = np.empty((n+1, m+1)) + np.infty\n",
        "\n",
        "    DTW[0, 0] = 0\n",
        "    for i in range(1, n+1):\n",
        "        for j in range(1, m+1):\n",
        "            DTW[i, j] = distance(s[i-1], t[j-1]) + min(\n",
        "                DTW[i-1, j],\n",
        "                DTW[i, j-1],\n",
        "                DTW[i-1, j-1])\n",
        "\n",
        "    return DTW[n, m]"
      ],
      "execution_count": 14,
      "outputs": []
    },
    {
      "cell_type": "code",
      "metadata": {
        "colab": {
          "base_uri": "https://localhost:8080/"
        },
        "id": "2yBMYnzz-_IN",
        "outputId": "aca1ff7f-edb9-4697-c542-e26fb85d98a4"
      },
      "source": [
        "dynamic_time_warping(np.array([1]), np.array([2]))"
      ],
      "execution_count": 15,
      "outputs": [
        {
          "output_type": "stream",
          "text": [
            "[[ 0. inf]\n",
            " [inf  1.]]\n"
          ],
          "name": "stdout"
        },
        {
          "output_type": "execute_result",
          "data": {
            "text/plain": [
              "1.0"
            ]
          },
          "metadata": {
            "tags": []
          },
          "execution_count": 15
        }
      ]
    },
    {
      "cell_type": "code",
      "metadata": {
        "id": "7YHvl8Ke_C0T"
      },
      "source": [
        ""
      ],
      "execution_count": null,
      "outputs": []
    }
  ]
}