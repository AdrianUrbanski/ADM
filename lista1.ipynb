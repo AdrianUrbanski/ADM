{
  "nbformat": 4,
  "nbformat_minor": 0,
  "metadata": {
    "colab": {
      "name": "lista1.ipynb",
      "provenance": [],
      "collapsed_sections": []
    },
    "kernelspec": {
      "name": "python3",
      "display_name": "Python 3"
    }
  },
  "cells": [
    {
      "cell_type": "code",
      "metadata": {
        "id": "O79x32DjJiFc"
      },
      "source": [
        "from scipy.stats import weibull_min as W\n",
        "import seaborn as sns\n",
        "import numpy as np\n",
        "import matplotlib.pyplot as plt"
      ],
      "execution_count": 41,
      "outputs": []
    },
    {
      "cell_type": "code",
      "metadata": {
        "id": "PUfmKYsRLfTo"
      },
      "source": [
        "def days_to_minutes(days_num):\n",
        "    return days_num*24*60"
      ],
      "execution_count": 7,
      "outputs": []
    },
    {
      "cell_type": "markdown",
      "metadata": {
        "id": "PacZk4rXRPEw"
      },
      "source": [
        "# Assignment 1"
      ]
    },
    {
      "cell_type": "markdown",
      "metadata": {
        "id": "QjRxN7ZHRSWD"
      },
      "source": [
        "## a)"
      ]
    },
    {
      "cell_type": "code",
      "metadata": {
        "colab": {
          "base_uri": "https://localhost:8080/"
        },
        "id": "b6Mz1iqxN_dT",
        "outputId": "a85f2016-13fd-44d0-e0f4-e106e9d4d15b"
      },
      "source": [
        "c = 0.5\n",
        "N = 1000\n",
        "for t in [150, days_to_minutes(1), days_to_minutes(2), days_to_minutes(5)]:\n",
        "    print(N*(1-W.cdf(t, c, scale=60)))"
      ],
      "execution_count": 47,
      "outputs": [
        {
          "output_type": "stream",
          "text": [
            "205.7406610838144\n",
            "7.454186295369869\n",
            "0.9797596903721173\n",
            "0.01748003561785616\n"
          ],
          "name": "stdout"
        }
      ]
    },
    {
      "cell_type": "code",
      "metadata": {
        "colab": {
          "base_uri": "https://localhost:8080/",
          "height": 283
        },
        "id": "mnDW4R25K_55",
        "outputId": "47565031-379f-46cf-8f6f-21aefe664f99"
      },
      "source": [
        "x = np.linspace(W.ppf(0.01, c, scale=60),\n",
        "                W.ppf(0.99, c, scale=60), 100)\n",
        "plt.plot(x, W.pdf(x, c, scale=60))"
      ],
      "execution_count": 52,
      "outputs": [
        {
          "output_type": "execute_result",
          "data": {
            "text/plain": [
              "[<matplotlib.lines.Line2D at 0x7fdb6bb16e50>]"
            ]
          },
          "metadata": {
            "tags": []
          },
          "execution_count": 52
        },
        {
          "output_type": "display_data",
          "data": {
            "image/png": "[encoded data removed]",
            "text/plain": [
              "<Figure size 432x288 with 1 Axes>"
            ]
          },
          "metadata": {
            "tags": [],
            "needs_background": "light"
          }
        }
      ]
    },
    {
      "cell_type": "markdown",
      "metadata": {
        "id": "Bihk71fRTCHh"
      },
      "source": [
        "## b)"
      ]
    },
    {
      "cell_type": "code",
      "metadata": {
        "colab": {
          "base_uri": "https://localhost:8080/"
        },
        "id": "x0A0aiKGRyX3",
        "outputId": "5dcd77be-d7ef-48b1-e50e-76074cdca6c5"
      },
      "source": [
        "c = 1\n",
        "N = 1000\n",
        "for t in [150, days_to_minutes(1), days_to_minutes(2), days_to_minutes(5)]:\n",
        "    print(N*(1-W.cdf(t, c, scale=60)))"
      ],
      "execution_count": 61,
      "outputs": [
        {
          "output_type": "stream",
          "text": [
            "82.08499862389884\n",
            "3.775135759553905e-08\n",
            "0.0\n",
            "0.0\n"
          ],
          "name": "stdout"
        }
      ]
    },
    {
      "cell_type": "code",
      "metadata": {
        "colab": {
          "base_uri": "https://localhost:8080/",
          "height": 283
        },
        "id": "UII_0mrNRyYo",
        "outputId": "16abe945-6c7b-40af-8dd7-3679a9a89f2a"
      },
      "source": [
        "x = np.linspace(W.ppf(0.01, c, scale=60),\n",
        "                W.ppf(0.99, c, scale=60), 100)\n",
        "plt.plot(x, W.pdf(x, c, scale=60))"
      ],
      "execution_count": 54,
      "outputs": [
        {
          "output_type": "execute_result",
          "data": {
            "text/plain": [
              "[<matplotlib.lines.Line2D at 0x7fdb6ba83910>]"
            ]
          },
          "metadata": {
            "tags": []
          },
          "execution_count": 54
        },
        {
          "output_type": "display_data",
          "data": {
            "image/png": "[encoded data removed]",
            "text/plain": [
              "<Figure size 432x288 with 1 Axes>"
            ]
          },
          "metadata": {
            "tags": [],
            "needs_background": "light"
          }
        }
      ]
    },
    {
      "cell_type": "code",
      "metadata": {
        "colab": {
          "base_uri": "https://localhost:8080/"
        },
        "id": "ow-bCk1ySCgy",
        "outputId": "430b1734-b972-4524-9dc4-b8e686c5c7ff"
      },
      "source": [
        "c = 1.5\n",
        "N = 1000\n",
        "for t in [150, days_to_minutes(1), days_to_minutes(2), days_to_minutes(5)]:\n",
        "    print(N*(1-W.cdf(t, c, scale=60)))"
      ],
      "execution_count": 55,
      "outputs": [
        {
          "output_type": "stream",
          "text": [
            "19.199960155009578\n",
            "0.0\n",
            "0.0\n",
            "0.0\n"
          ],
          "name": "stdout"
        }
      ]
    },
    {
      "cell_type": "code",
      "metadata": {
        "colab": {
          "base_uri": "https://localhost:8080/",
          "height": 283
        },
        "id": "NZsxaUJGSCg2",
        "outputId": "460ded77-76a4-4c4b-9af9-60ba9edc2132"
      },
      "source": [
        "x = np.linspace(W.ppf(0.01, c, scale=60),\n",
        "                W.ppf(0.99, c, scale=60), 100)\n",
        "plt.plot(x, W.pdf(x, c, scale=60))"
      ],
      "execution_count": 56,
      "outputs": [
        {
          "output_type": "execute_result",
          "data": {
            "text/plain": [
              "[<matplotlib.lines.Line2D at 0x7fdb6ba7aad0>]"
            ]
          },
          "metadata": {
            "tags": []
          },
          "execution_count": 56
        },
        {
          "output_type": "display_data",
          "data": {
            "image/png": "[encoded data removed]",
            "text/plain": [
              "<Figure size 432x288 with 1 Axes>"
            ]
          },
          "metadata": {
            "tags": [],
            "needs_background": "light"
          }
        }
      ]
    },
    {
      "cell_type": "code",
      "metadata": {
        "colab": {
          "base_uri": "https://localhost:8080/"
        },
        "id": "Tow8x-5SSrvM",
        "outputId": "c89de88e-9897-4d0b-9369-6706ba684008"
      },
      "source": [
        "c = 2.5\n",
        "N = 1000\n",
        "for t in [150, days_to_minutes(1), days_to_minutes(2), days_to_minutes(5)]:\n",
        "    print(N*(1-W.cdf(t, c, scale=60)))"
      ],
      "execution_count": 62,
      "outputs": [
        {
          "output_type": "stream",
          "text": [
            "0.05107999176456879\n",
            "0.0\n",
            "0.0\n",
            "0.0\n"
          ],
          "name": "stdout"
        }
      ]
    },
    {
      "cell_type": "code",
      "metadata": {
        "colab": {
          "base_uri": "https://localhost:8080/",
          "height": 283
        },
        "id": "2SSjNH34SrvQ",
        "outputId": "0fef9efe-9157-4498-c695-0a111bbdf21c"
      },
      "source": [
        "x = np.linspace(W.ppf(0.01, c, scale=60),\n",
        "                W.ppf(0.99, c, scale=60), 100)\n",
        "plt.plot(x, W.pdf(x, c, scale=60))"
      ],
      "execution_count": 63,
      "outputs": [
        {
          "output_type": "execute_result",
          "data": {
            "text/plain": [
              "[<matplotlib.lines.Line2D at 0x7fdb6b9fc9d0>]"
            ]
          },
          "metadata": {
            "tags": []
          },
          "execution_count": 63
        },
        {
          "output_type": "display_data",
          "data": {
            "image/png": "[encoded data removed]",
            "text/plain": [
              "<Figure size 432x288 with 1 Axes>"
            ]
          },
          "metadata": {
            "tags": [],
            "needs_background": "light"
          }
        }
      ]
    },
    {
      "cell_type": "code",
      "metadata": {
        "id": "AxzgXs8VStNj"
      },
      "source": [
        ""
      ],
      "execution_count": null,
      "outputs": []
    }
  ]
}